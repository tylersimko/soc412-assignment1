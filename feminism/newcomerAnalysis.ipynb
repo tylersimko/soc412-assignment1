{
 "cells": [
  {
   "cell_type": "markdown",
   "metadata": {},
   "source": [
    "# r/feminism Baseline Analysis\n",
    "\n",
    "These two datasets contain every archived post from r/feminism between June 2017 to the end of 2017."
   ]
  },
  {
   "cell_type": "code",
   "execution_count": 124,
   "metadata": {},
   "outputs": [],
   "source": [
    "femPosts <- read.csv(\"feminism_posts_06.30.2017-12.31.2107.csv\")                          # contains posts\n",
    "femComments <- read.csv(\"feminism_comments_on_posts_with_body_06.30.2017-12.31.2107.csv\",\n",
    "                       stringsAsFactors = FALSE) # contains comments"
   ]
  },
  {
   "cell_type": "markdown",
   "metadata": {},
   "source": [
    "### First question: How many newcomers does the subreddit receive per day?\n",
    "\n",
    "This depends on how we define a newcomer. For this analysis, I'll break down the definition of 'newcomer' into four possibilities:\n",
    "\n",
    "- someone posting who has never commented / posted before.\n",
    "- someone posting who has never comemented before.\n",
    "- someone commenting who has never commented / posted before.\n",
    "- someone commenting who has never commented before."
   ]
  },
  {
   "cell_type": "code",
   "execution_count": 126,
   "metadata": {},
   "outputs": [],
   "source": [
    "## posted: never commented / posted before\n",
    "newcomers <- femPosts[femPosts$previous.comments == 0 & femPosts$previous.posts == 0,]\n",
    "## posted: never commented before\n",
    "firstPost <- femPosts[femPosts$previous.comments == 0,]\n",
    "\n",
    "## commented: never commented / posted before\n",
    "newcomerCommenters <- femComments[femComments$previous.comments == 0 & femComments$previous.posts == 0,]\n",
    "## commented: never commented before\n",
    "firstComment <- femComments[femComments$previous.comments == 0,]"
   ]
  },
  {
   "cell_type": "code",
   "execution_count": 127,
   "metadata": {},
   "outputs": [
    {
     "data": {
      "text/html": [
       "184"
      ],
      "text/latex": [
       "184"
      ],
      "text/markdown": [
       "184"
      ],
      "text/plain": [
       "[1] 184"
      ]
     },
     "metadata": {},
     "output_type": "display_data"
    }
   ],
   "source": [
    "# how many days are represented in our data?\n",
    "(range <- as.numeric(max(as.Date(newcomers$created)) - min(as.Date(newcomers$created))))"
   ]
  },
  {
   "cell_type": "code",
   "execution_count": 132,
   "metadata": {},
   "outputs": [
    {
     "data": {
      "text/html": [
       "16"
      ],
      "text/latex": [
       "16"
      ],
      "text/markdown": [
       "16"
      ],
      "text/plain": [
       "[1] 16"
      ]
     },
     "metadata": {},
     "output_type": "display_data"
    },
    {
     "data": {
      "text/html": [
       "19"
      ],
      "text/latex": [
       "19"
      ],
      "text/markdown": [
       "19"
      ],
      "text/plain": [
       "[1] 19"
      ]
     },
     "metadata": {},
     "output_type": "display_data"
    },
    {
     "data": {
      "text/html": [
       "18"
      ],
      "text/latex": [
       "18"
      ],
      "text/markdown": [
       "18"
      ],
      "text/plain": [
       "[1] 18"
      ]
     },
     "metadata": {},
     "output_type": "display_data"
    },
    {
     "data": {
      "text/html": [
       "20"
      ],
      "text/latex": [
       "20"
      ],
      "text/markdown": [
       "20"
      ],
      "text/plain": [
       "[1] 20"
      ]
     },
     "metadata": {},
     "output_type": "display_data"
    }
   ],
   "source": [
    "round(nrow(newcomers) / range)             # posters: never comment or post\n",
    "round(nrow(firstPost) / range)             # posters: never comment before\n",
    "round(nrow(newcomerCommenters) / range)    # comment: never comment or post\n",
    "round(nrow(firstComment) / range)          # comment: never comment before"
   ]
  },
  {
   "cell_type": "markdown",
   "metadata": {},
   "source": [
    "On an average day, r/feminism receives:\n",
    "\n",
    "- 16 posts from users who have never commented / posted before.\n",
    "- 19 posts from users who have never commented before.\n",
    "- 18 comments from users who have never commented / posted before.\n",
    "- 20 comments from users who have never commented before."
   ]
  },
  {
   "cell_type": "markdown",
   "metadata": {},
   "source": [
    "### Second question: How many newcomer commenters does the subreddit receive per post?\n"
   ]
  },
  {
   "cell_type": "code",
   "execution_count": 104,
   "metadata": {},
   "outputs": [
    {
     "data": {
      "text/html": [
       "1"
      ],
      "text/latex": [
       "1"
      ],
      "text/markdown": [
       "1"
      ],
      "text/plain": [
       "[1] 1"
      ]
     },
     "metadata": {},
     "output_type": "display_data"
    }
   ],
   "source": [
    "round(sum(femComments$previous.comments == 0) / nrow(femPosts))"
   ]
  },
  {
   "cell_type": "code",
   "execution_count": 136,
   "metadata": {},
   "outputs": [
    {
     "data": {
      "text/html": [
       "1"
      ],
      "text/latex": [
       "1"
      ],
      "text/markdown": [
       "1"
      ],
      "text/plain": [
       "[1] 1"
      ]
     },
     "metadata": {},
     "output_type": "display_data"
    }
   ],
   "source": [
    "round(sum(femComments$previous.comments == 0 & femComments$previous.posts == 0) / nrow(femPosts))"
   ]
  },
  {
   "cell_type": "markdown",
   "metadata": {},
   "source": [
    "### Third: How many first-time commenters comment a second time in the first two weeks? In the first three months?"
   ]
  },
  {
   "cell_type": "code",
   "execution_count": 106,
   "metadata": {},
   "outputs": [
    {
     "name": "stdout",
     "output_type": "stream",
     "text": [
      "[1] \"done\"\n"
     ]
    }
   ],
   "source": [
    "## first, get first-time commenters names\n",
    "firstTimeNames <- femComments$author[femComments$previous.comments == 0]\n",
    "firstTimeData <- femComments[femComments$author %in% firstTimeNames,]\n",
    "\n",
    "nums <- NULL\n",
    "nums3Months <- NULL\n",
    "\n",
    "## for each first-time commenter, how many post a second time in two weeks? / 3 months?\n",
    "for (i in 1:length(firstTimeNames)) {\n",
    "    \n",
    "    currentAuthor <- firstTimeNames[i]\n",
    "    authorData <- firstTimeData[firstTimeData$author == currentAuthor,]\n",
    "    earliestPost <- which(as.Date(authorData$created) == min(as.Date(authorData$created)))\n",
    "    earliestPost <- authorData[earliestPost[1],]\n",
    "    otherPosts <- subset(authorData, id != earliestPost$id)\n",
    "    \n",
    "    ## get earliest data\n",
    "    earliestPost <- as.Date(earliestPost$created)\n",
    "    \n",
    "    ## exclude earliest post from analysis\n",
    "    twoWeekPosts <- authorData[as.Date(otherPosts$created) >= earliestPost & \n",
    "                               as.Date(otherPosts$created) <= (earliestPost + 14),]\n",
    "    threeMonthPosts <- authorData[as.Date(otherPosts$created) >= earliestPost & \n",
    "                               as.Date(otherPosts$created) <= (earliestPost + 90),]\n",
    "    nums <- rbind(nums, nrow(twoWeekPosts))\n",
    "    nums3Months <- rbind(nums3Months, nrow(threeMonthPosts))\n",
    "}\n",
    "print(\"done\")"
   ]
  },
  {
   "cell_type": "markdown",
   "metadata": {},
   "source": [
    "### How many times do these users comment two weeks / three months after their first comment?"
   ]
  },
  {
   "cell_type": "code",
   "execution_count": 107,
   "metadata": {},
   "outputs": [
    {
     "data": {
      "text/plain": [
       "nums\n",
       "   0    2    3    4    5    6    7    8    9   10   11   12   13   14   15   16 \n",
       "2303  624  263  148   80   53   36   23   19   15    7    7   14    2    4    5 \n",
       "  17   18   19   20   21   22   23   24   25   27   28   30   33   35   49 \n",
       "   5    2    3    2    1    2    3    3    1    1    1    2    1    1    1 "
      ]
     },
     "metadata": {},
     "output_type": "display_data"
    }
   ],
   "source": [
    "table(nums)"
   ]
  },
  {
   "cell_type": "code",
   "execution_count": 108,
   "metadata": {},
   "outputs": [
    {
     "data": {
      "text/plain": [
       "nums3Months\n",
       "   0    2    3    4    5    6    7    8    9   10   11   12   13   14   15   16 \n",
       "2124  652  301  169  102   63   45   29   19   20   13   11   18    5    7    5 \n",
       "  17   18   19   20   21   22   23   24   25   26   28   29   32   33   34   36 \n",
       "   8    4    4    1    4    2    3    5    1    1    1    1    2    3    1    1 \n",
       "  38   41   51   54   57   65  102 \n",
       "   1    1    1    1    1    1    1 "
      ]
     },
     "metadata": {},
     "output_type": "display_data"
    }
   ],
   "source": [
    "table(nums3Months)"
   ]
  },
  {
   "cell_type": "markdown",
   "metadata": {},
   "source": [
    "### Among first-time commenters, 37% comment again within two weeks and 42% comment again within 3 months."
   ]
  },
  {
   "cell_type": "code",
   "execution_count": 109,
   "metadata": {},
   "outputs": [
    {
     "data": {
      "text/html": [
       "<ol class=list-inline>\n",
       "\t<li>2303</li>\n",
       "\t<li>1329</li>\n",
       "</ol>\n"
      ],
      "text/latex": [
       "\\begin{enumerate*}\n",
       "\\item 2303\n",
       "\\item 1329\n",
       "\\end{enumerate*}\n"
      ],
      "text/markdown": [
       "1. 2303\n",
       "2. 1329\n",
       "\n",
       "\n"
      ],
      "text/plain": [
       "[1] 2303 1329"
      ]
     },
     "metadata": {},
     "output_type": "display_data"
    },
    {
     "data": {
      "text/html": [
       "0.3659140969163"
      ],
      "text/latex": [
       "0.3659140969163"
      ],
      "text/markdown": [
       "0.3659140969163"
      ],
      "text/plain": [
       "[1] 0.3659141"
      ]
     },
     "metadata": {},
     "output_type": "display_data"
    }
   ],
   "source": [
    "c(sum(nums == 0), sum(nums != 0))       # counts\n",
    "sum(nums != 0) / length(firstTimeNames) # prop."
   ]
  },
  {
   "cell_type": "code",
   "execution_count": 110,
   "metadata": {},
   "outputs": [
    {
     "data": {
      "text/html": [
       "<ol class=list-inline>\n",
       "\t<li>2124</li>\n",
       "\t<li>1508</li>\n",
       "</ol>\n"
      ],
      "text/latex": [
       "\\begin{enumerate*}\n",
       "\\item 2124\n",
       "\\item 1508\n",
       "\\end{enumerate*}\n"
      ],
      "text/markdown": [
       "1. 2124\n",
       "2. 1508\n",
       "\n",
       "\n"
      ],
      "text/plain": [
       "[1] 2124 1508"
      ]
     },
     "metadata": {},
     "output_type": "display_data"
    },
    {
     "data": {
      "text/html": [
       "0.415198237885463"
      ],
      "text/latex": [
       "0.415198237885463"
      ],
      "text/markdown": [
       "0.415198237885463"
      ],
      "text/plain": [
       "[1] 0.4151982"
      ]
     },
     "metadata": {},
     "output_type": "display_data"
    }
   ],
   "source": [
    "c(sum(nums3Months == 0), sum(nums3Months != 0)) # counts\n",
    "sum(nums3Months != 0) / length(firstTimeNames)  # prop."
   ]
  },
  {
   "cell_type": "code",
   "execution_count": null,
   "metadata": {},
   "outputs": [],
   "source": []
  }
 ],
 "metadata": {
  "kernelspec": {
   "display_name": "R",
   "language": "R",
   "name": "ir"
  },
  "language_info": {
   "codemirror_mode": "r",
   "file_extension": ".r",
   "mimetype": "text/x-r-source",
   "name": "R",
   "pygments_lexer": "r",
   "version": "3.4.3"
  }
 },
 "nbformat": 4,
 "nbformat_minor": 2
}

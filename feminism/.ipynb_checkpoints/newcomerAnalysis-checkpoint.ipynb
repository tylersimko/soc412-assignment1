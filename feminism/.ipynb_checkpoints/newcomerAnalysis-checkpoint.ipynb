{
 "cells": [
  {
   "cell_type": "markdown",
   "metadata": {},
   "source": [
    "# r/feminism Baseline Analysis\n",
    "\n",
    "These two datasets contain every archived post from r/feminism between June 2017 to the end of 2017."
   ]
  },
  {
   "cell_type": "code",
   "execution_count": 6,
   "metadata": {},
   "outputs": [],
   "source": [
    "femPosts <- read.csv(\"feminism_posts_06.30.2017-12.31.2107.csv\")\n",
    "femComments <- read.csv(\"feminism_comments_on_posts_with_body_06.30.2017-12.31.2107.csv\")"
   ]
  },
  {
   "cell_type": "code",
   "execution_count": null,
   "metadata": {},
   "outputs": [],
   "source": [
    "head(femComments"
   ]
  },
  {
   "cell_type": "code",
   "execution_count": 35,
   "metadata": {},
   "outputs": [
    {
     "data": {
      "text/html": [
       "<ol class=list-inline>\n",
       "\t<li>'X'</li>\n",
       "\t<li>'archived'</li>\n",
       "\t<li>'author'</li>\n",
       "\t<li>'author_flair_css_class'</li>\n",
       "\t<li>'author_flair_text'</li>\n",
       "\t<li>'created'</li>\n",
       "\t<li>'created_utc'</li>\n",
       "\t<li>'distinguished'</li>\n",
       "\t<li>'domain'</li>\n",
       "\t<li>'eligible'</li>\n",
       "\t<li>'gilded'</li>\n",
       "\t<li>'hide_score'</li>\n",
       "\t<li>'id'</li>\n",
       "\t<li>'is_self'</li>\n",
       "\t<li>'link_flair_css_class'</li>\n",
       "\t<li>'link_flair_text'</li>\n",
       "\t<li>'num_comments'</li>\n",
       "\t<li>'over_18'</li>\n",
       "\t<li>'permalink'</li>\n",
       "\t<li>'previous.comments'</li>\n",
       "\t<li>'previous.posts'</li>\n",
       "\t<li>'quarantine'</li>\n",
       "\t<li>'retrieved_on'</li>\n",
       "\t<li>'score'</li>\n",
       "\t<li>'selftext'</li>\n",
       "\t<li>'stickied'</li>\n",
       "\t<li>'subreddit'</li>\n",
       "\t<li>'subreddit_id'</li>\n",
       "\t<li>'thumbnail'</li>\n",
       "\t<li>'title'</li>\n",
       "\t<li>'url'</li>\n",
       "</ol>\n"
      ],
      "text/latex": [
       "\\begin{enumerate*}\n",
       "\\item 'X'\n",
       "\\item 'archived'\n",
       "\\item 'author'\n",
       "\\item 'author\\_flair\\_css\\_class'\n",
       "\\item 'author\\_flair\\_text'\n",
       "\\item 'created'\n",
       "\\item 'created\\_utc'\n",
       "\\item 'distinguished'\n",
       "\\item 'domain'\n",
       "\\item 'eligible'\n",
       "\\item 'gilded'\n",
       "\\item 'hide\\_score'\n",
       "\\item 'id'\n",
       "\\item 'is\\_self'\n",
       "\\item 'link\\_flair\\_css\\_class'\n",
       "\\item 'link\\_flair\\_text'\n",
       "\\item 'num\\_comments'\n",
       "\\item 'over\\_18'\n",
       "\\item 'permalink'\n",
       "\\item 'previous.comments'\n",
       "\\item 'previous.posts'\n",
       "\\item 'quarantine'\n",
       "\\item 'retrieved\\_on'\n",
       "\\item 'score'\n",
       "\\item 'selftext'\n",
       "\\item 'stickied'\n",
       "\\item 'subreddit'\n",
       "\\item 'subreddit\\_id'\n",
       "\\item 'thumbnail'\n",
       "\\item 'title'\n",
       "\\item 'url'\n",
       "\\end{enumerate*}\n"
      ],
      "text/markdown": [
       "1. 'X'\n",
       "2. 'archived'\n",
       "3. 'author'\n",
       "4. 'author_flair_css_class'\n",
       "5. 'author_flair_text'\n",
       "6. 'created'\n",
       "7. 'created_utc'\n",
       "8. 'distinguished'\n",
       "9. 'domain'\n",
       "10. 'eligible'\n",
       "11. 'gilded'\n",
       "12. 'hide_score'\n",
       "13. 'id'\n",
       "14. 'is_self'\n",
       "15. 'link_flair_css_class'\n",
       "16. 'link_flair_text'\n",
       "17. 'num_comments'\n",
       "18. 'over_18'\n",
       "19. 'permalink'\n",
       "20. 'previous.comments'\n",
       "21. 'previous.posts'\n",
       "22. 'quarantine'\n",
       "23. 'retrieved_on'\n",
       "24. 'score'\n",
       "25. 'selftext'\n",
       "26. 'stickied'\n",
       "27. 'subreddit'\n",
       "28. 'subreddit_id'\n",
       "29. 'thumbnail'\n",
       "30. 'title'\n",
       "31. 'url'\n",
       "\n",
       "\n"
      ],
      "text/plain": [
       " [1] \"X\"                      \"archived\"               \"author\"                \n",
       " [4] \"author_flair_css_class\" \"author_flair_text\"      \"created\"               \n",
       " [7] \"created_utc\"            \"distinguished\"          \"domain\"                \n",
       "[10] \"eligible\"               \"gilded\"                 \"hide_score\"            \n",
       "[13] \"id\"                     \"is_self\"                \"link_flair_css_class\"  \n",
       "[16] \"link_flair_text\"        \"num_comments\"           \"over_18\"               \n",
       "[19] \"permalink\"              \"previous.comments\"      \"previous.posts\"        \n",
       "[22] \"quarantine\"             \"retrieved_on\"           \"score\"                 \n",
       "[25] \"selftext\"               \"stickied\"               \"subreddit\"             \n",
       "[28] \"subreddit_id\"           \"thumbnail\"              \"title\"                 \n",
       "[31] \"url\"                   "
      ]
     },
     "metadata": {},
     "output_type": "display_data"
    }
   ],
   "source": [
    "colnames(femPosts)"
   ]
  },
  {
   "cell_type": "markdown",
   "metadata": {},
   "source": [
    "### First question: How many newcomer commenters does the subreddit receive per day?\n",
    "\n",
    "This depends on how we define a newcomer. For this analysis, I'll assume that we mean 'someone who has never posted or commented before' as a newcomer."
   ]
  },
  {
   "cell_type": "code",
   "execution_count": 36,
   "metadata": {},
   "outputs": [],
   "source": [
    "newcomers <- femPosts[femPosts$previous.comments == 0 & femPosts$previous.posts == 0,]\n",
    "neverComment <- femPosts[femPosts$previous.comments == 0,]"
   ]
  },
  {
   "cell_type": "code",
   "execution_count": 37,
   "metadata": {},
   "outputs": [
    {
     "data": {
      "text/html": [
       "184"
      ],
      "text/latex": [
       "184"
      ],
      "text/markdown": [
       "184"
      ],
      "text/plain": [
       "[1] 184"
      ]
     },
     "metadata": {},
     "output_type": "display_data"
    }
   ],
   "source": [
    "# how many days are represented in our data?\n",
    "(range <- as.numeric(max(as.Date(newcomers$created)) - min(as.Date(newcomers$created))))"
   ]
  },
  {
   "cell_type": "code",
   "execution_count": 39,
   "metadata": {},
   "outputs": [
    {
     "data": {
      "text/html": [
       "16"
      ],
      "text/latex": [
       "16"
      ],
      "text/markdown": [
       "16"
      ],
      "text/plain": [
       "[1] 16"
      ]
     },
     "metadata": {},
     "output_type": "display_data"
    },
    {
     "data": {
      "text/html": [
       "19"
      ],
      "text/latex": [
       "19"
      ],
      "text/markdown": [
       "19"
      ],
      "text/plain": [
       "[1] 19"
      ]
     },
     "metadata": {},
     "output_type": "display_data"
    }
   ],
   "source": [
    "round(nrow(newcomers) / range)    # never comment or post\n",
    "round(nrow(neverComment) / range) # never comment"
   ]
  },
  {
   "cell_type": "markdown",
   "metadata": {},
   "source": [
    "We get an average of 16 folks per day who have never posted / commented, and 19 who have never commented before."
   ]
  },
  {
   "cell_type": "markdown",
   "metadata": {},
   "source": [
    "### Second question: How many newcomer commenters does the subreddit receive per post?\n",
    "How many newcomer commenters does the subreddit receive per day?\n",
    "How many newcomer posters does the subreddit receive per day?\n"
   ]
  },
  {
   "cell_type": "code",
   "execution_count": null,
   "metadata": {},
   "outputs": [],
   "source": [
    "hist(femPosts$)"
   ]
  },
  {
   "cell_type": "code",
   "execution_count": 50,
   "metadata": {},
   "outputs": [
    {
     "data": {
      "text/html": [
       "TRUE"
      ],
      "text/latex": [
       "TRUE"
      ],
      "text/markdown": [
       "TRUE"
      ],
      "text/plain": [
       "[1] TRUE"
      ]
     },
     "metadata": {},
     "output_type": "display_data"
    }
   ],
   "source": [
    "identical(femPosts, femComments)"
   ]
  },
  {
   "cell_type": "code",
   "execution_count": null,
   "metadata": {},
   "outputs": [],
   "source": []
  }
 ],
 "metadata": {
  "kernelspec": {
   "display_name": "R",
   "language": "R",
   "name": "ir"
  },
  "language_info": {
   "codemirror_mode": "r",
   "file_extension": ".r",
   "mimetype": "text/x-r-source",
   "name": "R",
   "pygments_lexer": "r",
   "version": "3.4.3"
  }
 },
 "nbformat": 4,
 "nbformat_minor": 2
}
